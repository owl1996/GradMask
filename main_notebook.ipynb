{
 "cells": [
  {
   "cell_type": "code",
   "execution_count": 1,
   "metadata": {},
   "outputs": [
    {
     "name": "stderr",
     "output_type": "stream",
     "text": [
      "/Users/vdine/miniconda3/envs/ffcv/lib/python3.9/site-packages/tqdm/auto.py:21: TqdmWarning: IProgress not found. Please update jupyter and ipywidgets. See https://ipywidgets.readthedocs.io/en/stable/user_install.html\n",
      "  from .autonotebook import tqdm as notebook_tqdm\n"
     ]
    }
   ],
   "source": [
    "import torch\n",
    "from utils import load_checkpoint"
   ]
  },
  {
   "cell_type": "code",
   "execution_count": 2,
   "metadata": {},
   "outputs": [],
   "source": [
    "if torch.cuda.is_available():\n",
    "    device = torch.device(\"cuda\")\n",
    "elif torch.backends.mps.is_available():\n",
    "    device = torch.device(\"mps\")\n",
    "else:\n",
    "    device = torch.device(\"cpu\")"
   ]
  },
  {
   "cell_type": "code",
   "execution_count": 4,
   "metadata": {},
   "outputs": [],
   "source": [
    "save_path = \"results/cifar10\"\n",
    "pruning = 0"
   ]
  },
  {
   "cell_type": "code",
   "execution_count": 5,
   "metadata": {},
   "outputs": [
    {
     "name": "stderr",
     "output_type": "stream",
     "text": [
      "/var/folders/17/d5wm_d6x5zv68h4w18r3246h4xmqkj/T/ipykernel_10201/1869873517.py:1: FutureWarning: You are using `torch.load` with `weights_only=False` (the current default value), which uses the default pickle module implicitly. It is possible to construct malicious pickle data which will execute arbitrary code during unpickling (See https://github.com/pytorch/pytorch/blob/main/SECURITY.md#untrusted-models for more details). In a future release, the default value for `weights_only` will be flipped to `True`. This limits the functions that could be executed during unpickling. Arbitrary objects will no longer be allowed to be loaded via this mode unless they are explicitly allowlisted by the user via `torch.serialization.add_safe_globals`. We recommend you start setting `weights_only=True` for any use case where you don't have full control of the loaded file. Please open an issue on GitHub for any issues related to this experimental feature.\n",
      "  torch.load(save_path + \"/0model_SA_best.pth.tar\")['result']\n"
     ]
    },
    {
     "data": {
      "text/plain": [
       "{'train_ta': [28.655555555555555,\n",
       "  51.824444444444445,\n",
       "  65.04666666666667,\n",
       "  71.91333333333333,\n",
       "  76.0,\n",
       "  78.88444444444444,\n",
       "  80.2688888888889,\n",
       "  81.92,\n",
       "  83.08666666666667,\n",
       "  83.86666666666666],\n",
       " 'test_ta': [37.43333333333333,\n",
       "  53.24444444444445,\n",
       "  63.388888888888886,\n",
       "  71.2,\n",
       "  71.68888888888888,\n",
       "  67.72222222222223,\n",
       "  79.6,\n",
       "  80.6,\n",
       "  74.18888888888888,\n",
       "  80.87777777777778],\n",
       " 'val_ta': [35.76000000305176,\n",
       "  50.52000002441406,\n",
       "  60.99999998779297,\n",
       "  71.33999987792969,\n",
       "  69.67999997558594,\n",
       "  68.47999990234375,\n",
       "  76.49999992675781,\n",
       "  78.67999993896484,\n",
       "  75.55999985351562,\n",
       "  80.13999995117187]}"
      ]
     },
     "execution_count": 5,
     "metadata": {},
     "output_type": "execute_result"
    }
   ],
   "source": [
    "torch.load(save_path + \"/0model_SA_best.pth.tar\")['result']"
   ]
  },
  {
   "cell_type": "code",
   "execution_count": 6,
   "metadata": {},
   "outputs": [
    {
     "name": "stdout",
     "output_type": "stream",
     "text": [
      "Load checkpoint from:results/cifar10/0checkpoint.pth.tar\n"
     ]
    },
    {
     "data": {
      "text/plain": [
       "dict_keys(['state', 'result', 'epoch', 'state_dict', 'best_sa', 'optimizer', 'scheduler', 'init_weight'])"
      ]
     },
     "execution_count": 6,
     "metadata": {},
     "output_type": "execute_result"
    }
   ],
   "source": [
    "results = load_checkpoint(device, save_path, pruning, filename=\"checkpoint.pth.tar\")\n",
    "results.keys()"
   ]
  },
  {
   "cell_type": "code",
   "execution_count": 7,
   "metadata": {},
   "outputs": [
    {
     "data": {
      "text/plain": [
       "{'train_ta': [28.655555555555555,\n",
       "  51.824444444444445,\n",
       "  65.04666666666667,\n",
       "  71.91333333333333,\n",
       "  76.0,\n",
       "  78.88444444444444,\n",
       "  80.2688888888889,\n",
       "  81.92,\n",
       "  83.08666666666667,\n",
       "  83.86666666666666],\n",
       " 'test_ta': [37.43333333333333,\n",
       "  53.24444444444445,\n",
       "  63.388888888888886,\n",
       "  71.2,\n",
       "  71.68888888888888,\n",
       "  67.72222222222223,\n",
       "  79.6,\n",
       "  80.6,\n",
       "  74.18888888888888,\n",
       "  80.87777777777778],\n",
       " 'val_ta': [35.76000000305176,\n",
       "  50.52000002441406,\n",
       "  60.99999998779297,\n",
       "  71.33999987792969,\n",
       "  69.67999997558594,\n",
       "  68.47999990234375,\n",
       "  76.49999992675781,\n",
       "  78.67999993896484,\n",
       "  75.55999985351562,\n",
       "  80.13999995117187]}"
      ]
     },
     "execution_count": 7,
     "metadata": {},
     "output_type": "execute_result"
    }
   ],
   "source": [
    "results['result']"
   ]
  },
  {
   "cell_type": "code",
   "execution_count": 9,
   "metadata": {},
   "outputs": [
    {
     "data": {
      "text/plain": [
       "{'accuracy': {'retain': 58.56790123193058,\n",
       "  'forget': 0.0,\n",
       "  'val': 52.63999986572266,\n",
       "  'test': 58.31111111111111},\n",
       " 'SVC_MIA_forget_efficacy': {'correctness': 1.0,\n",
       "  'confidence': 1.0,\n",
       "  'entropy': 0.6731111111111111,\n",
       "  'm_entropy': 0.6917777777777778,\n",
       "  'prob': 0.4017777777777778},\n",
       " 'SVC_MIA_training_privacy': {'correctness': 0.5017638888888889,\n",
       "  'confidence': 0.5025138888888889,\n",
       "  'entropy': 0.49530555555555555,\n",
       "  'm_entropy': 0.4944166666666667,\n",
       "  'prob': 0.49173611111111115}}"
      ]
     },
     "execution_count": 9,
     "metadata": {},
     "output_type": "execute_result"
    }
   ],
   "source": [
    "torch.load(save_path + \"/NGPLus0resnet18182eval_result.pth.tar\", weights_only=False)"
   ]
  },
  {
   "cell_type": "code",
   "execution_count": 9,
   "metadata": {},
   "outputs": [
    {
     "data": {
      "text/plain": [
       "{'accuracy': {'retain': 72.60157126755291,\n",
       "  'forget': 72.22222076416016,\n",
       "  'val': 58.539999963378904,\n",
       "  'test': 60.18181817257043},\n",
       " 'SVC_MIA_forget_efficacy': {'correctness': 0.2777777777777778,\n",
       "  'confidence': 0.2577777777777778,\n",
       "  'entropy': 0.3088888888888889,\n",
       "  'm_entropy': 0.26888888888888884,\n",
       "  'prob': 0.020000000000000018},\n",
       " 'SVC_MIA_training_privacy': {'correctness': 0.5592676767676767,\n",
       "  'confidence': 0.5600883838383839,\n",
       "  'entropy': 0.5366540404040404,\n",
       "  'm_entropy': 0.5314772727272727,\n",
       "  'prob': 0.5056818181818182}}"
      ]
     },
     "execution_count": 9,
     "metadata": {},
     "output_type": "execute_result"
    }
   ],
   "source": [
    "torch.load(save_path + \"/idealeval_result.pth.tar\", weights_only=False)"
   ]
  },
  {
   "cell_type": "code",
   "execution_count": 10,
   "metadata": {},
   "outputs": [
    {
     "data": {
      "text/plain": [
       "{'accuracy': {'retain': 78.95398428697511,\n",
       "  'forget': 60.88888670179579,\n",
       "  'val': 63.25999996948242,\n",
       "  'test': 64.10101008405589},\n",
       " 'SVC_MIA_forget_efficacy': {'correctness': 0.3911111111111111,\n",
       "  'confidence': 0.4488888888888889,\n",
       "  'entropy': 0.6977777777777778,\n",
       "  'm_entropy': 0.6955555555555555,\n",
       "  'prob': 0.03555555555555556},\n",
       " 'SVC_MIA_training_privacy': {'correctness': 0.5724873737373737,\n",
       "  'confidence': 0.5729166666666666,\n",
       "  'entropy': 0.5470202020202021,\n",
       "  'm_entropy': 0.5423484848484849,\n",
       "  'prob': 0.5013636363636363}}"
      ]
     },
     "execution_count": 10,
     "metadata": {},
     "output_type": "execute_result"
    }
   ],
   "source": [
    "torch.load(save_path + \"/SRLeval_result.pth.tar\", weights_only=False)"
   ]
  },
  {
   "cell_type": "code",
   "execution_count": 11,
   "metadata": {},
   "outputs": [
    {
     "data": {
      "text/plain": [
       "{'accuracy': {'retain': 73.01907968506133,\n",
       "  'forget': 33.111110314263236,\n",
       "  'val': 59.12000001831055,\n",
       "  'test': 60.25252518470841},\n",
       " 'SVC_MIA_forget_efficacy': {'correctness': 0.6688888888888889,\n",
       "  'confidence': 0.7244444444444444,\n",
       "  'entropy': 0.9133333333333333,\n",
       "  'm_entropy': 0.9155555555555556,\n",
       "  'prob': 0.015555555555555545},\n",
       " 'SVC_MIA_training_privacy': {'correctness': 0.5626641414141413,\n",
       "  'confidence': 0.5622601010101009,\n",
       "  'entropy': 0.5355934343434343,\n",
       "  'm_entropy': 0.5313762626262626,\n",
       "  'prob': 0.5026010101010101}}"
      ]
     },
     "execution_count": 11,
     "metadata": {},
     "output_type": "execute_result"
    }
   ],
   "source": [
    "torch.load(save_path + \"/SalUneval_result.pth.tar\", weights_only=False)"
   ]
  },
  {
   "cell_type": "code",
   "execution_count": 12,
   "metadata": {},
   "outputs": [
    {
     "data": {
      "text/plain": [
       "{'accuracy': {'retain': 77.41638608271025,\n",
       "  'forget': 66.888888414171,\n",
       "  'val': 62.22,\n",
       "  'test': 63.17171710235904},\n",
       " 'SVC_MIA_forget_efficacy': {'correctness': 0.33111111111111113,\n",
       "  'confidence': 0.36444444444444446,\n",
       "  'entropy': 0.5844444444444444,\n",
       "  'm_entropy': 0.5644444444444445,\n",
       "  'prob': 0.01777777777777778},\n",
       " 'SVC_MIA_training_privacy': {'correctness': 0.5689898989898989,\n",
       "  'confidence': 0.5681439393939394,\n",
       "  'entropy': 0.5428282828282829,\n",
       "  'm_entropy': 0.5330176767676768,\n",
       "  'prob': 0.5052777777777777}}"
      ]
     },
     "execution_count": 12,
     "metadata": {},
     "output_type": "execute_result"
    }
   ],
   "source": [
    "torch.load(save_path + \"/mix_SRLeval_result.pth.tar\", weights_only=False)"
   ]
  },
  {
   "cell_type": "code",
   "execution_count": null,
   "metadata": {},
   "outputs": [],
   "source": []
  },
  {
   "cell_type": "code",
   "execution_count": null,
   "metadata": {},
   "outputs": [],
   "source": []
  }
 ],
 "metadata": {
  "kernelspec": {
   "display_name": "ffcv",
   "language": "python",
   "name": "python3"
  },
  "language_info": {
   "codemirror_mode": {
    "name": "ipython",
    "version": 3
   },
   "file_extension": ".py",
   "mimetype": "text/x-python",
   "name": "python",
   "nbconvert_exporter": "python",
   "pygments_lexer": "ipython3",
   "version": "3.9.21"
  }
 },
 "nbformat": 4,
 "nbformat_minor": 2
}
