{
 "cells": [
  {
   "cell_type": "code",
   "execution_count": 1,
   "metadata": {},
   "outputs": [
    {
     "name": "stderr",
     "output_type": "stream",
     "text": [
      "/Users/vdine/miniconda3/envs/ffcv/lib/python3.9/site-packages/tqdm/auto.py:21: TqdmWarning: IProgress not found. Please update jupyter and ipywidgets. See https://ipywidgets.readthedocs.io/en/stable/user_install.html\n",
      "  from .autonotebook import tqdm as notebook_tqdm\n"
     ]
    }
   ],
   "source": [
    "import torch\n",
    "from utils import load_checkpoint"
   ]
  },
  {
   "cell_type": "code",
   "execution_count": 2,
   "metadata": {},
   "outputs": [],
   "source": [
    "if torch.cuda.is_available():\n",
    "    torch.cuda.set_device(int(args.gpu))\n",
    "    device = torch.device(f\"cuda:{int(args.gpu)}\")\n",
    "elif torch.backends.mps.is_available():\n",
    "    device = torch.device(\"mps\")\n",
    "else:\n",
    "    device = torch.device(\"cpu\")"
   ]
  },
  {
   "cell_type": "code",
   "execution_count": 3,
   "metadata": {},
   "outputs": [],
   "source": [
    "save_path = \"results/cifar10\"\n",
    "pruning = 0"
   ]
  },
  {
   "cell_type": "code",
   "execution_count": 11,
   "metadata": {},
   "outputs": [
    {
     "name": "stderr",
     "output_type": "stream",
     "text": [
      "/var/folders/17/d5wm_d6x5zv68h4w18r3246h4xmqkj/T/ipykernel_4601/1869873517.py:1: FutureWarning: You are using `torch.load` with `weights_only=False` (the current default value), which uses the default pickle module implicitly. It is possible to construct malicious pickle data which will execute arbitrary code during unpickling (See https://github.com/pytorch/pytorch/blob/main/SECURITY.md#untrusted-models for more details). In a future release, the default value for `weights_only` will be flipped to `True`. This limits the functions that could be executed during unpickling. Arbitrary objects will no longer be allowed to be loaded via this mode unless they are explicitly allowlisted by the user via `torch.serialization.add_safe_globals`. We recommend you start setting `weights_only=True` for any use case where you don't have full control of the loaded file. Please open an issue on GitHub for any issues related to this experimental feature.\n",
      "  torch.load(save_path + \"/0model_SA_best.pth.tar\")['result']\n"
     ]
    },
    {
     "data": {
      "text/plain": [
       "{'train_ta': [33.96222222222222,\n",
       "  54.76444444444444,\n",
       "  65.67555555555556,\n",
       "  73.0911111111111,\n",
       "  76.91777777777777,\n",
       "  79.67111111111112,\n",
       "  81.69777777777777,\n",
       "  83.36444444444444,\n",
       "  84.7311111111111,\n",
       "  85.54],\n",
       " 'test_ta': [46.18888888888889,\n",
       "  59.44444444444444,\n",
       "  67.32222222222222,\n",
       "  71.8,\n",
       "  72.87777777777778,\n",
       "  75.07777777777778,\n",
       "  74.4888888888889,\n",
       "  78.26666666666667,\n",
       "  79.41111111111111,\n",
       "  79.33333333333333],\n",
       " 'val_ta': [44.859999926757816,\n",
       "  58.73999996337891,\n",
       "  64.59999989013671,\n",
       "  72.63999990234375,\n",
       "  74.07999992675781,\n",
       "  74.61999993896484,\n",
       "  76.4,\n",
       "  78.19999991455079,\n",
       "  77.41999987792968,\n",
       "  79.08000003662109]}"
      ]
     },
     "execution_count": 11,
     "metadata": {},
     "output_type": "execute_result"
    }
   ],
   "source": [
    "torch.load(save_path + \"/0model_SA_best.pth.tar\")['result']"
   ]
  },
  {
   "cell_type": "code",
   "execution_count": 5,
   "metadata": {},
   "outputs": [
    {
     "name": "stdout",
     "output_type": "stream",
     "text": [
      "Load checkpoint from:results/cifar10/0checkpoint.pth.tar\n"
     ]
    },
    {
     "data": {
      "text/plain": [
       "dict_keys(['state', 'result', 'epoch', 'state_dict', 'best_sa', 'optimizer', 'scheduler', 'init_weight'])"
      ]
     },
     "execution_count": 5,
     "metadata": {},
     "output_type": "execute_result"
    }
   ],
   "source": [
    "results = load_checkpoint(device, save_path, pruning, filename=\"checkpoint.pth.tar\")\n",
    "results.keys()"
   ]
  },
  {
   "cell_type": "code",
   "execution_count": 6,
   "metadata": {},
   "outputs": [
    {
     "data": {
      "text/plain": [
       "{'train_ta': [33.96222222222222,\n",
       "  54.76444444444444,\n",
       "  65.67555555555556,\n",
       "  73.0911111111111,\n",
       "  76.91777777777777,\n",
       "  79.67111111111112,\n",
       "  81.69777777777777,\n",
       "  83.36444444444444,\n",
       "  84.7311111111111,\n",
       "  85.54],\n",
       " 'test_ta': [46.18888888888889,\n",
       "  59.44444444444444,\n",
       "  67.32222222222222,\n",
       "  71.8,\n",
       "  72.87777777777778,\n",
       "  75.07777777777778,\n",
       "  74.4888888888889,\n",
       "  78.26666666666667,\n",
       "  79.41111111111111,\n",
       "  79.33333333333333],\n",
       " 'val_ta': [44.859999926757816,\n",
       "  58.73999996337891,\n",
       "  64.59999989013671,\n",
       "  72.63999990234375,\n",
       "  74.07999992675781,\n",
       "  74.61999993896484,\n",
       "  76.4,\n",
       "  78.19999991455079,\n",
       "  77.41999987792968,\n",
       "  79.08000003662109]}"
      ]
     },
     "execution_count": 6,
     "metadata": {},
     "output_type": "execute_result"
    }
   ],
   "source": [
    "results['result']"
   ]
  },
  {
   "cell_type": "code",
   "execution_count": 7,
   "metadata": {},
   "outputs": [
    {
     "data": {
      "text/plain": [
       "{'accuracy': {'retain': 88.04444444595148,\n",
       "  'forget': 0.0,\n",
       "  'val': 77.34000004882813,\n",
       "  'test': 85.36666666666666},\n",
       " 'SVC_MIA_forget_efficacy': {'correctness': 1.0,\n",
       "  'confidence': 1.0,\n",
       "  'entropy': 0.9468888888888889,\n",
       "  'm_entropy': 0.9404444444444444,\n",
       "  'prob': 0.8497777777777777},\n",
       " 'SVC_MIA_training_privacy': {'correctness': 0.5119722222222223,\n",
       "  'confidence': 0.5130694444444444,\n",
       "  'entropy': 0.5130833333333333,\n",
       "  'm_entropy': 0.5101944444444445,\n",
       "  'prob': 0.5014722222222223}}"
      ]
     },
     "execution_count": 7,
     "metadata": {},
     "output_type": "execute_result"
    }
   ],
   "source": [
    "torch.load(save_path + \"/mask_SRLeval_result.pth.tar\", weights_only=False)"
   ]
  },
  {
   "cell_type": "code",
   "execution_count": 8,
   "metadata": {},
   "outputs": [
    {
     "data": {
      "text/plain": [
       "{'accuracy': {'retain': 79.07901233814381,\n",
       "  'forget': 0.0,\n",
       "  'val': 69.49999990234375,\n",
       "  'test': 76.64444444444445},\n",
       " 'SVC_MIA_forget_efficacy': {'correctness': 1.0,\n",
       "  'confidence': 1.0,\n",
       "  'entropy': 0.6291111111111112,\n",
       "  'm_entropy': 0.5655555555555556,\n",
       "  'prob': 0.2082222222222222},\n",
       " 'SVC_MIA_training_privacy': {'correctness': 0.5127777777777778,\n",
       "  'confidence': 0.5140277777777778,\n",
       "  'entropy': 0.4984861111111112,\n",
       "  'm_entropy': 0.4959305555555556,\n",
       "  'prob': 0.49793055555555554}}"
      ]
     },
     "execution_count": 8,
     "metadata": {},
     "output_type": "execute_result"
    }
   ],
   "source": [
    "torch.load(save_path + \"/SRLeval_result.pth.tar\", weights_only=False)"
   ]
  },
  {
   "cell_type": "code",
   "execution_count": 9,
   "metadata": {},
   "outputs": [
    {
     "data": {
      "text/plain": [
       "{'accuracy': {'retain': 89.14074074224779,\n",
       "  'forget': 0.0,\n",
       "  'val': 78.21999993896485,\n",
       "  'test': 86.27777777777777},\n",
       " 'SVC_MIA_forget_efficacy': {'correctness': 1.0,\n",
       "  'confidence': 1.0,\n",
       "  'entropy': 0.9137777777777778,\n",
       "  'm_entropy': 0.9068888888888889,\n",
       "  'prob': 0.8282222222222222},\n",
       " 'SVC_MIA_training_privacy': {'correctness': 0.5129444444444444,\n",
       "  'confidence': 0.5180833333333333,\n",
       "  'entropy': 0.5157083333333333,\n",
       "  'm_entropy': 0.5152222222222222,\n",
       "  'prob': 0.5004027777777778}}"
      ]
     },
     "execution_count": 9,
     "metadata": {},
     "output_type": "execute_result"
    }
   ],
   "source": [
    "torch.load(save_path + \"/SalUneval_result.pth.tar\", weights_only=False)"
   ]
  },
  {
   "cell_type": "code",
   "execution_count": 10,
   "metadata": {},
   "outputs": [
    {
     "data": {
      "text/plain": [
       "{'accuracy': {'retain': 87.65925925549166,\n",
       "  'forget': 0.044444444444444446,\n",
       "  'val': 76.91999993896485,\n",
       "  'test': 85.37777777777778},\n",
       " 'SVC_MIA_forget_efficacy': {'correctness': 0.9995555555555555,\n",
       "  'confidence': 1.0,\n",
       "  'entropy': 0.9504444444444444,\n",
       "  'm_entropy': 0.9266666666666666,\n",
       "  'prob': 0.8097777777777778},\n",
       " 'SVC_MIA_training_privacy': {'correctness': 0.5106805555555556,\n",
       "  'confidence': 0.5125972222222223,\n",
       "  'entropy': 0.5169722222222222,\n",
       "  'm_entropy': 0.51425,\n",
       "  'prob': 0.5036805555555555}}"
      ]
     },
     "execution_count": 10,
     "metadata": {},
     "output_type": "execute_result"
    }
   ],
   "source": [
    "torch.load(save_path + \"/mix_SRLeval_result.pth.tar\", weights_only=False)"
   ]
  },
  {
   "cell_type": "code",
   "execution_count": null,
   "metadata": {},
   "outputs": [],
   "source": []
  },
  {
   "cell_type": "code",
   "execution_count": null,
   "metadata": {},
   "outputs": [],
   "source": []
  }
 ],
 "metadata": {
  "kernelspec": {
   "display_name": "ffcv",
   "language": "python",
   "name": "python3"
  },
  "language_info": {
   "codemirror_mode": {
    "name": "ipython",
    "version": 3
   },
   "file_extension": ".py",
   "mimetype": "text/x-python",
   "name": "python",
   "nbconvert_exporter": "python",
   "pygments_lexer": "ipython3",
   "version": "3.9.21"
  }
 },
 "nbformat": 4,
 "nbformat_minor": 2
}
