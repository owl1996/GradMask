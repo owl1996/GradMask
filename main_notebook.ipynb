{
 "cells": [
  {
   "cell_type": "code",
   "execution_count": 2,
   "metadata": {},
   "outputs": [
    {
     "name": "stderr",
     "output_type": "stream",
     "text": [
      "/Users/vdine/miniconda3/envs/ffcv/lib/python3.9/site-packages/tqdm/auto.py:21: TqdmWarning: IProgress not found. Please update jupyter and ipywidgets. See https://ipywidgets.readthedocs.io/en/stable/user_install.html\n",
      "  from .autonotebook import tqdm as notebook_tqdm\n"
     ]
    }
   ],
   "source": [
    "import torch\n",
    "from utils import load_checkpoint"
   ]
  },
  {
   "cell_type": "code",
   "execution_count": null,
   "metadata": {},
   "outputs": [],
   "source": [
    "if torch.cuda.is_available():\n",
    "    device = torch.device(\"cuda\")\n",
    "elif torch.backends.mps.is_available():\n",
    "    device = torch.device(\"mps\")\n",
    "else:\n",
    "    device = torch.device(\"cpu\")"
   ]
  },
  {
   "cell_type": "code",
   "execution_count": 4,
   "metadata": {},
   "outputs": [],
   "source": [
    "save_path = \"results/cifar100\"\n",
    "pruning = 0"
   ]
  },
  {
   "cell_type": "code",
   "execution_count": 5,
   "metadata": {},
   "outputs": [
    {
     "name": "stderr",
     "output_type": "stream",
     "text": [
      "/var/folders/17/d5wm_d6x5zv68h4w18r3246h4xmqkj/T/ipykernel_75151/1869873517.py:1: FutureWarning: You are using `torch.load` with `weights_only=False` (the current default value), which uses the default pickle module implicitly. It is possible to construct malicious pickle data which will execute arbitrary code during unpickling (See https://github.com/pytorch/pytorch/blob/main/SECURITY.md#untrusted-models for more details). In a future release, the default value for `weights_only` will be flipped to `True`. This limits the functions that could be executed during unpickling. Arbitrary objects will no longer be allowed to be loaded via this mode unless they are explicitly allowlisted by the user via `torch.serialization.add_safe_globals`. We recommend you start setting `weights_only=True` for any use case where you don't have full control of the loaded file. Please open an issue on GitHub for any issues related to this experimental feature.\n",
      "  torch.load(save_path + \"/0model_SA_best.pth.tar\")['result']\n"
     ]
    },
    {
     "data": {
      "text/plain": [
       "{'train_ta': [9.006666666666666,\n",
       "  17.942222222222224,\n",
       "  26.23777777777778,\n",
       "  35.03111111111111,\n",
       "  41.51111111111111,\n",
       "  47.733333333333334,\n",
       "  52.04666666666667,\n",
       "  55.297777777777775,\n",
       "  58.58222222222222,\n",
       "  60.63333333333333,\n",
       "  62.90888888888889,\n",
       "  64.12666666666667,\n",
       "  66.02222222222223,\n",
       "  67.15333333333334,\n",
       "  68.43777777777778,\n",
       "  69.75111111111111,\n",
       "  70.93777777777778,\n",
       "  71.3488888888889,\n",
       "  72.45555555555555,\n",
       "  73.58888888888889,\n",
       "  73.74888888888889,\n",
       "  74.61111111111111,\n",
       "  75.54,\n",
       "  75.53333333333333,\n",
       "  76.20444444444445,\n",
       "  76.5111111111111,\n",
       "  77.15555555555555,\n",
       "  77.8488888888889,\n",
       "  78.14666666666666,\n",
       "  78.32222222222222],\n",
       " 'test_ta': [11.868686865604285,\n",
       "  19.484848479453962,\n",
       "  29.151515132249003,\n",
       "  32.323232302424884,\n",
       "  32.44444442286636,\n",
       "  44.31313130234227,\n",
       "  45.6969696584374,\n",
       "  47.080808054606116,\n",
       "  48.646464620262684,\n",
       "  50.69696965689611,\n",
       "  51.484848432444565,\n",
       "  55.27272725731436,\n",
       "  53.10101007326685,\n",
       "  54.82828280670474,\n",
       "  56.797979736328124,\n",
       "  53.656565628822406,\n",
       "  55.999999984587085,\n",
       "  57.94949492791687,\n",
       "  58.494949417884904,\n",
       "  57.565656550243645,\n",
       "  56.69696968155678,\n",
       "  55.78787876475941,\n",
       "  59.61616154680348,\n",
       "  59.49494943946299,\n",
       "  54.98989892208215,\n",
       "  58.88888882569592,\n",
       "  58.73737371425436,\n",
       "  57.1212121057992,\n",
       "  55.77777774386936,\n",
       "  60.18181817257043],\n",
       " 'val_ta': [11.71999999961853,\n",
       "  17.499999981689452,\n",
       "  27.63999998779297,\n",
       "  30.90000001220703,\n",
       "  32.62000000610352,\n",
       "  43.1399999786377,\n",
       "  45.41999997558594,\n",
       "  46.359999981689455,\n",
       "  48.25999993286133,\n",
       "  50.439999926757814,\n",
       "  49.13999995117187,\n",
       "  54.98,\n",
       "  53.34,\n",
       "  53.19999997558594,\n",
       "  56.29999996643066,\n",
       "  54.63999994506836,\n",
       "  54.91999993286133,\n",
       "  55.83999992675781,\n",
       "  57.10000001220703,\n",
       "  56.420000018310546,\n",
       "  56.159999951171876,\n",
       "  55.85999993896484,\n",
       "  57.81999997558594,\n",
       "  58.23999998779297,\n",
       "  55.39999995727539,\n",
       "  57.259999926757814,\n",
       "  57.67999994506836,\n",
       "  55.91999999389648,\n",
       "  55.33999998168945,\n",
       "  59.45999998779297]}"
      ]
     },
     "execution_count": 5,
     "metadata": {},
     "output_type": "execute_result"
    }
   ],
   "source": [
    "torch.load(save_path + \"/0model_SA_best.pth.tar\")['result']"
   ]
  },
  {
   "cell_type": "code",
   "execution_count": 6,
   "metadata": {},
   "outputs": [
    {
     "name": "stdout",
     "output_type": "stream",
     "text": [
      "Load checkpoint from:results/cifar100/0checkpoint.pth.tar\n"
     ]
    },
    {
     "data": {
      "text/plain": [
       "dict_keys(['state', 'result', 'epoch', 'state_dict', 'best_sa', 'optimizer', 'scheduler', 'init_weight'])"
      ]
     },
     "execution_count": 6,
     "metadata": {},
     "output_type": "execute_result"
    }
   ],
   "source": [
    "results = load_checkpoint(device, save_path, pruning, filename=\"checkpoint.pth.tar\")\n",
    "results.keys()"
   ]
  },
  {
   "cell_type": "code",
   "execution_count": 7,
   "metadata": {},
   "outputs": [
    {
     "data": {
      "text/plain": [
       "{'train_ta': [9.006666666666666,\n",
       "  17.942222222222224,\n",
       "  26.23777777777778,\n",
       "  35.03111111111111,\n",
       "  41.51111111111111,\n",
       "  47.733333333333334,\n",
       "  52.04666666666667,\n",
       "  55.297777777777775,\n",
       "  58.58222222222222,\n",
       "  60.63333333333333,\n",
       "  62.90888888888889,\n",
       "  64.12666666666667,\n",
       "  66.02222222222223,\n",
       "  67.15333333333334,\n",
       "  68.43777777777778,\n",
       "  69.75111111111111,\n",
       "  70.93777777777778,\n",
       "  71.3488888888889,\n",
       "  72.45555555555555,\n",
       "  73.58888888888889,\n",
       "  73.74888888888889,\n",
       "  74.61111111111111,\n",
       "  75.54,\n",
       "  75.53333333333333,\n",
       "  76.20444444444445,\n",
       "  76.5111111111111,\n",
       "  77.15555555555555,\n",
       "  77.8488888888889,\n",
       "  78.14666666666666,\n",
       "  78.32222222222222],\n",
       " 'test_ta': [11.868686865604285,\n",
       "  19.484848479453962,\n",
       "  29.151515132249003,\n",
       "  32.323232302424884,\n",
       "  32.44444442286636,\n",
       "  44.31313130234227,\n",
       "  45.6969696584374,\n",
       "  47.080808054606116,\n",
       "  48.646464620262684,\n",
       "  50.69696965689611,\n",
       "  51.484848432444565,\n",
       "  55.27272725731436,\n",
       "  53.10101007326685,\n",
       "  54.82828280670474,\n",
       "  56.797979736328124,\n",
       "  53.656565628822406,\n",
       "  55.999999984587085,\n",
       "  57.94949492791687,\n",
       "  58.494949417884904,\n",
       "  57.565656550243645,\n",
       "  56.69696968155678,\n",
       "  55.78787876475941,\n",
       "  59.61616154680348,\n",
       "  59.49494943946299,\n",
       "  54.98989892208215,\n",
       "  58.88888882569592,\n",
       "  58.73737371425436,\n",
       "  57.1212121057992,\n",
       "  55.77777774386936,\n",
       "  60.18181817257043],\n",
       " 'val_ta': [11.71999999961853,\n",
       "  17.499999981689452,\n",
       "  27.63999998779297,\n",
       "  30.90000001220703,\n",
       "  32.62000000610352,\n",
       "  43.1399999786377,\n",
       "  45.41999997558594,\n",
       "  46.359999981689455,\n",
       "  48.25999993286133,\n",
       "  50.439999926757814,\n",
       "  49.13999995117187,\n",
       "  54.98,\n",
       "  53.34,\n",
       "  53.19999997558594,\n",
       "  56.29999996643066,\n",
       "  54.63999994506836,\n",
       "  54.91999993286133,\n",
       "  55.83999992675781,\n",
       "  57.10000001220703,\n",
       "  56.420000018310546,\n",
       "  56.159999951171876,\n",
       "  55.85999993896484,\n",
       "  57.81999997558594,\n",
       "  58.23999998779297,\n",
       "  55.39999995727539,\n",
       "  57.259999926757814,\n",
       "  57.67999994506836,\n",
       "  55.91999999389648,\n",
       "  55.33999998168945,\n",
       "  59.45999998779297]}"
      ]
     },
     "execution_count": 7,
     "metadata": {},
     "output_type": "execute_result"
    }
   ],
   "source": [
    "results['result']"
   ]
  },
  {
   "cell_type": "code",
   "execution_count": 8,
   "metadata": {},
   "outputs": [
    {
     "data": {
      "text/plain": [
       "{'accuracy': {'retain': 74.63973063904562,\n",
       "  'forget': 77.77777676052517,\n",
       "  'val': 59.95999998168946,\n",
       "  'test': 61.747474718190205},\n",
       " 'SVC_MIA_forget_efficacy': {'correctness': 0.2222222222222222,\n",
       "  'confidence': 0.2222222222222222,\n",
       "  'entropy': 0.28,\n",
       "  'm_entropy': 0.24,\n",
       "  'prob': 0.2644444444444445},\n",
       " 'SVC_MIA_training_privacy': {'correctness': 0.5605681818181818,\n",
       "  'confidence': 0.5640782828282829,\n",
       "  'entropy': 0.5393308080808081,\n",
       "  'm_entropy': 0.5343181818181818,\n",
       "  'prob': 0.5059974747474747}}"
      ]
     },
     "execution_count": 8,
     "metadata": {},
     "output_type": "execute_result"
    }
   ],
   "source": [
    "torch.load(save_path + \"/nothingeval_result.pth.tar\", weights_only=False)"
   ]
  },
  {
   "cell_type": "code",
   "execution_count": 9,
   "metadata": {},
   "outputs": [
    {
     "data": {
      "text/plain": [
       "{'accuracy': {'retain': 72.60157126755291,\n",
       "  'forget': 72.22222076416016,\n",
       "  'val': 58.539999963378904,\n",
       "  'test': 60.18181817257043},\n",
       " 'SVC_MIA_forget_efficacy': {'correctness': 0.2777777777777778,\n",
       "  'confidence': 0.2577777777777778,\n",
       "  'entropy': 0.3088888888888889,\n",
       "  'm_entropy': 0.26888888888888884,\n",
       "  'prob': 0.020000000000000018},\n",
       " 'SVC_MIA_training_privacy': {'correctness': 0.5592676767676767,\n",
       "  'confidence': 0.5600883838383839,\n",
       "  'entropy': 0.5366540404040404,\n",
       "  'm_entropy': 0.5314772727272727,\n",
       "  'prob': 0.5056818181818182}}"
      ]
     },
     "execution_count": 9,
     "metadata": {},
     "output_type": "execute_result"
    }
   ],
   "source": [
    "torch.load(save_path + \"/idealeval_result.pth.tar\", weights_only=False)"
   ]
  },
  {
   "cell_type": "code",
   "execution_count": 10,
   "metadata": {},
   "outputs": [
    {
     "data": {
      "text/plain": [
       "{'accuracy': {'retain': 78.95398428697511,\n",
       "  'forget': 60.88888670179579,\n",
       "  'val': 63.25999996948242,\n",
       "  'test': 64.10101008405589},\n",
       " 'SVC_MIA_forget_efficacy': {'correctness': 0.3911111111111111,\n",
       "  'confidence': 0.4488888888888889,\n",
       "  'entropy': 0.6977777777777778,\n",
       "  'm_entropy': 0.6955555555555555,\n",
       "  'prob': 0.03555555555555556},\n",
       " 'SVC_MIA_training_privacy': {'correctness': 0.5724873737373737,\n",
       "  'confidence': 0.5729166666666666,\n",
       "  'entropy': 0.5470202020202021,\n",
       "  'm_entropy': 0.5423484848484849,\n",
       "  'prob': 0.5013636363636363}}"
      ]
     },
     "execution_count": 10,
     "metadata": {},
     "output_type": "execute_result"
    }
   ],
   "source": [
    "torch.load(save_path + \"/SRLeval_result.pth.tar\", weights_only=False)"
   ]
  },
  {
   "cell_type": "code",
   "execution_count": 11,
   "metadata": {},
   "outputs": [
    {
     "data": {
      "text/plain": [
       "{'accuracy': {'retain': 73.01907968506133,\n",
       "  'forget': 33.111110314263236,\n",
       "  'val': 59.12000001831055,\n",
       "  'test': 60.25252518470841},\n",
       " 'SVC_MIA_forget_efficacy': {'correctness': 0.6688888888888889,\n",
       "  'confidence': 0.7244444444444444,\n",
       "  'entropy': 0.9133333333333333,\n",
       "  'm_entropy': 0.9155555555555556,\n",
       "  'prob': 0.015555555555555545},\n",
       " 'SVC_MIA_training_privacy': {'correctness': 0.5626641414141413,\n",
       "  'confidence': 0.5622601010101009,\n",
       "  'entropy': 0.5355934343434343,\n",
       "  'm_entropy': 0.5313762626262626,\n",
       "  'prob': 0.5026010101010101}}"
      ]
     },
     "execution_count": 11,
     "metadata": {},
     "output_type": "execute_result"
    }
   ],
   "source": [
    "torch.load(save_path + \"/SalUneval_result.pth.tar\", weights_only=False)"
   ]
  },
  {
   "cell_type": "code",
   "execution_count": 12,
   "metadata": {},
   "outputs": [
    {
     "data": {
      "text/plain": [
       "{'accuracy': {'retain': 77.41638608271025,\n",
       "  'forget': 66.888888414171,\n",
       "  'val': 62.22,\n",
       "  'test': 63.17171710235904},\n",
       " 'SVC_MIA_forget_efficacy': {'correctness': 0.33111111111111113,\n",
       "  'confidence': 0.36444444444444446,\n",
       "  'entropy': 0.5844444444444444,\n",
       "  'm_entropy': 0.5644444444444445,\n",
       "  'prob': 0.01777777777777778},\n",
       " 'SVC_MIA_training_privacy': {'correctness': 0.5689898989898989,\n",
       "  'confidence': 0.5681439393939394,\n",
       "  'entropy': 0.5428282828282829,\n",
       "  'm_entropy': 0.5330176767676768,\n",
       "  'prob': 0.5052777777777777}}"
      ]
     },
     "execution_count": 12,
     "metadata": {},
     "output_type": "execute_result"
    }
   ],
   "source": [
    "torch.load(save_path + \"/mix_SRLeval_result.pth.tar\", weights_only=False)"
   ]
  },
  {
   "cell_type": "code",
   "execution_count": null,
   "metadata": {},
   "outputs": [],
   "source": []
  },
  {
   "cell_type": "code",
   "execution_count": null,
   "metadata": {},
   "outputs": [],
   "source": []
  }
 ],
 "metadata": {
  "kernelspec": {
   "display_name": "ffcv",
   "language": "python",
   "name": "python3"
  },
  "language_info": {
   "codemirror_mode": {
    "name": "ipython",
    "version": 3
   },
   "file_extension": ".py",
   "mimetype": "text/x-python",
   "name": "python",
   "nbconvert_exporter": "python",
   "pygments_lexer": "ipython3",
   "version": "3.9.21"
  }
 },
 "nbformat": 4,
 "nbformat_minor": 2
}
