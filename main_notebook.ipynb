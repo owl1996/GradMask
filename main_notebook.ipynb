{
 "cells": [
  {
   "cell_type": "code",
   "execution_count": 1,
   "metadata": {},
   "outputs": [
    {
     "name": "stderr",
     "output_type": "stream",
     "text": [
      "/Users/vdine/miniconda3/envs/ffcv/lib/python3.9/site-packages/tqdm/auto.py:21: TqdmWarning: IProgress not found. Please update jupyter and ipywidgets. See https://ipywidgets.readthedocs.io/en/stable/user_install.html\n",
      "  from .autonotebook import tqdm as notebook_tqdm\n"
     ]
    }
   ],
   "source": [
    "import torch\n",
    "from utils import load_checkpoint"
   ]
  },
  {
   "cell_type": "code",
   "execution_count": 2,
   "metadata": {},
   "outputs": [],
   "source": [
    "if torch.cuda.is_available():\n",
    "    torch.cuda.set_device(int(args.gpu))\n",
    "    device = torch.device(f\"cuda:{int(args.gpu)}\")\n",
    "elif torch.backends.mps.is_available():\n",
    "    device = torch.device(\"mps\")\n",
    "else:\n",
    "    device = torch.device(\"cpu\")"
   ]
  },
  {
   "cell_type": "code",
   "execution_count": 3,
   "metadata": {},
   "outputs": [],
   "source": [
    "save_path = \"test_cifar10\"\n",
    "pruning = 0"
   ]
  },
  {
   "cell_type": "code",
   "execution_count": 4,
   "metadata": {},
   "outputs": [
    {
     "name": "stdout",
     "output_type": "stream",
     "text": [
      "Load checkpoint from:test_cifar10/0checkpoint.pth.tar\n"
     ]
    },
    {
     "data": {
      "text/plain": [
       "dict_keys(['state', 'result', 'epoch', 'state_dict', 'best_sa', 'optimizer', 'scheduler', 'init_weight'])"
      ]
     },
     "execution_count": 4,
     "metadata": {},
     "output_type": "execute_result"
    }
   ],
   "source": [
    "results = load_checkpoint(device, save_path, pruning, filename=\"checkpoint.pth.tar\")\n",
    "results.keys()"
   ]
  },
  {
   "cell_type": "code",
   "execution_count": 5,
   "metadata": {},
   "outputs": [
    {
     "data": {
      "text/plain": [
       "{'train_ta': [34.96666666666667,\n",
       "  55.12222222222222,\n",
       "  66.17111111111112,\n",
       "  73.52666666666667,\n",
       "  77.56888888888889,\n",
       "  79.73777777777778,\n",
       "  81.89333333333333,\n",
       "  83.52888888888889,\n",
       "  84.6511111111111,\n",
       "  85.46444444444444],\n",
       " 'test_ta': [48.9,\n",
       "  55.6,\n",
       "  69.27777777777777,\n",
       "  71.87777777777778,\n",
       "  73.75555555555556,\n",
       "  73.6,\n",
       "  73.04444444444445,\n",
       "  80.15555555555555,\n",
       "  77.16666666666667,\n",
       "  82.07777777777778],\n",
       " 'val_ta': [45.63999999694824,\n",
       "  56.30000001220703,\n",
       "  66.25999993896484,\n",
       "  71.95999995117188,\n",
       "  73.85999995117187,\n",
       "  74.63999987792968,\n",
       "  74.55999989013672,\n",
       "  79.68000004882812,\n",
       "  77.6599999267578,\n",
       "  81.31999995117188]}"
      ]
     },
     "execution_count": 5,
     "metadata": {},
     "output_type": "execute_result"
    }
   ],
   "source": [
    "results['result']"
   ]
  },
  {
   "cell_type": "code",
   "execution_count": 6,
   "metadata": {},
   "outputs": [
    {
     "data": {
      "text/plain": [
       "{'accuracy': {'retain': 82.37037036735629,\n",
       "  'forget': 2.266666667143504,\n",
       "  'val': 72.39999985351562,\n",
       "  'test': 80.66666666666667},\n",
       " 'SVC_MIA_forget_efficacy': {'correctness': 0.9773333333333334,\n",
       "  'confidence': 0.9851111111111112,\n",
       "  'entropy': 0.8066666666666666,\n",
       "  'm_entropy': 0.6288888888888888,\n",
       "  'prob': 0.32177777777777783},\n",
       " 'SVC_MIA_training_privacy': {'correctness': 0.5063888888888889,\n",
       "  'confidence': 0.5076111111111111,\n",
       "  'entropy': 0.4999861111111111,\n",
       "  'm_entropy': 0.49959722222222225,\n",
       "  'prob': 0.49606944444444445}}"
      ]
     },
     "execution_count": 6,
     "metadata": {},
     "output_type": "execute_result"
    }
   ],
   "source": [
    "torch.load(\"test_cifar10/mask_NGPluseval_result.pth.tar\", weights_only=False)"
   ]
  },
  {
   "cell_type": "code",
   "execution_count": 7,
   "metadata": {},
   "outputs": [
    {
     "data": {
      "text/plain": [
       "{'accuracy': {'retain': 76.12592592592593,\n",
       "  'forget': 0.0,\n",
       "  'val': 67.25999990234375,\n",
       "  'test': 74.02222222222223},\n",
       " 'SVC_MIA_forget_efficacy': {'correctness': 1.0,\n",
       "  'confidence': 1.0,\n",
       "  'entropy': 0.6504444444444444,\n",
       "  'm_entropy': 0.6688888888888889,\n",
       "  'prob': 0.508},\n",
       " 'SVC_MIA_training_privacy': {'correctness': 0.5134444444444445,\n",
       "  'confidence': 0.5140694444444445,\n",
       "  'entropy': 0.5027638888888889,\n",
       "  'm_entropy': 0.5004722222222222,\n",
       "  'prob': 0.499625}}"
      ]
     },
     "execution_count": 7,
     "metadata": {},
     "output_type": "execute_result"
    }
   ],
   "source": [
    "torch.load(\"test_cifar10/NGPluseval_result.pth.tar\", weights_only=False)"
   ]
  },
  {
   "cell_type": "code",
   "execution_count": 8,
   "metadata": {},
   "outputs": [
    {
     "data": {
      "text/plain": [
       "{'accuracy': {'retain': 84.89629629403574,\n",
       "  'forget': 0.0,\n",
       "  'val': 75.0599999633789,\n",
       "  'test': 82.46666666666667},\n",
       " 'SVC_MIA_forget_efficacy': {'correctness': 1.0,\n",
       "  'confidence': 1.0,\n",
       "  'entropy': 0.7933333333333333,\n",
       "  'm_entropy': 0.7506666666666667,\n",
       "  'prob': 0.3195555555555556},\n",
       " 'SVC_MIA_training_privacy': {'correctness': 0.5156111111111111,\n",
       "  'confidence': 0.5110138888888889,\n",
       "  'entropy': 0.4910277777777778,\n",
       "  'm_entropy': 0.49269444444444443,\n",
       "  'prob': 0.49830555555555556}}"
      ]
     },
     "execution_count": 8,
     "metadata": {},
     "output_type": "execute_result"
    }
   ],
   "source": [
    "torch.load(\"test_cifar10/FTeval_result.pth.tar\", weights_only=False)"
   ]
  },
  {
   "cell_type": "code",
   "execution_count": null,
   "metadata": {},
   "outputs": [],
   "source": []
  }
 ],
 "metadata": {
  "kernelspec": {
   "display_name": "ffcv",
   "language": "python",
   "name": "python3"
  },
  "language_info": {
   "codemirror_mode": {
    "name": "ipython",
    "version": 3
   },
   "file_extension": ".py",
   "mimetype": "text/x-python",
   "name": "python",
   "nbconvert_exporter": "python",
   "pygments_lexer": "ipython3",
   "version": "3.9.21"
  }
 },
 "nbformat": 4,
 "nbformat_minor": 2
}
